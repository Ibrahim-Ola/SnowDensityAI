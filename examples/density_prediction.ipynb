{
 "cells": [
  {
   "cell_type": "markdown",
   "metadata": {},
   "source": [
    "## Setup\n",
    "\n",
    "Load libraries"
   ]
  },
  {
   "cell_type": "code",
   "execution_count": 1,
   "metadata": {},
   "outputs": [],
   "source": [
    "import datetime\n",
    "from snowai.density import (\n",
    "    JonasDensity, \n",
    "    PistochiDensity, \n",
    "    SturmDensity,\n",
    "    MachineLearningDensity\n",
    ")\n",
    "\n",
    "from snowai.utils import ConvertData, clean_cache\n",
    "from sklearn.metrics import root_mean_squared_error"
   ]
  },
  {
   "cell_type": "markdown",
   "metadata": {},
   "source": [
    "## Download Data\n",
    "\n",
    "We will download some SNOTEL data using the `metloom API`. Install `metloom` using:\n",
    "\n",
    "```bash\n",
    "pip install metloom\n",
    "```"
   ]
  },
  {
   "cell_type": "code",
   "execution_count": 2,
   "metadata": {},
   "outputs": [],
   "source": [
    "try:\n",
    "    from metloom.pointdata import SnotelPointData\n",
    "except ImportError:\n",
    "    !pip install metloom"
   ]
  },
  {
   "cell_type": "code",
   "execution_count": 3,
   "metadata": {},
   "outputs": [
    {
     "data": {
      "text/html": [
       "<div>\n",
       "<style scoped>\n",
       "    .dataframe tbody tr th:only-of-type {\n",
       "        vertical-align: middle;\n",
       "    }\n",
       "\n",
       "    .dataframe tbody tr th {\n",
       "        vertical-align: top;\n",
       "    }\n",
       "\n",
       "    .dataframe thead th {\n",
       "        text-align: right;\n",
       "    }\n",
       "</style>\n",
       "<table border=\"1\" class=\"dataframe\">\n",
       "  <thead>\n",
       "    <tr style=\"text-align: right;\">\n",
       "      <th></th>\n",
       "      <th></th>\n",
       "      <th>geometry</th>\n",
       "      <th>SWE</th>\n",
       "      <th>SWE_units</th>\n",
       "      <th>MIN AIR TEMP</th>\n",
       "      <th>MIN AIR TEMP_units</th>\n",
       "      <th>MAX AIR TEMP</th>\n",
       "      <th>MAX AIR TEMP_units</th>\n",
       "      <th>AVG AIR TEMP</th>\n",
       "      <th>AVG AIR TEMP_units</th>\n",
       "      <th>SNOWDEPTH</th>\n",
       "      <th>SNOWDEPTH_units</th>\n",
       "      <th>datasource</th>\n",
       "    </tr>\n",
       "    <tr>\n",
       "      <th>datetime</th>\n",
       "      <th>site</th>\n",
       "      <th></th>\n",
       "      <th></th>\n",
       "      <th></th>\n",
       "      <th></th>\n",
       "      <th></th>\n",
       "      <th></th>\n",
       "      <th></th>\n",
       "      <th></th>\n",
       "      <th></th>\n",
       "      <th></th>\n",
       "      <th></th>\n",
       "      <th></th>\n",
       "    </tr>\n",
       "  </thead>\n",
       "  <tbody>\n",
       "    <tr>\n",
       "      <th>2024-02-01 08:00:00+00:00</th>\n",
       "      <th>312:ID:SNTL</th>\n",
       "      <td>POINT Z (-115.23447 44.30342 7040.00000)</td>\n",
       "      <td>10.5</td>\n",
       "      <td>in</td>\n",
       "      <td>25.34</td>\n",
       "      <td>degF</td>\n",
       "      <td>36.86</td>\n",
       "      <td>degF</td>\n",
       "      <td>31.82</td>\n",
       "      <td>degF</td>\n",
       "      <td>40.0</td>\n",
       "      <td>in</td>\n",
       "      <td>NRCS</td>\n",
       "    </tr>\n",
       "    <tr>\n",
       "      <th>2024-02-02 08:00:00+00:00</th>\n",
       "      <th>312:ID:SNTL</th>\n",
       "      <td>POINT Z (-115.23447 44.30342 7040.00000)</td>\n",
       "      <td>10.7</td>\n",
       "      <td>in</td>\n",
       "      <td>25.88</td>\n",
       "      <td>degF</td>\n",
       "      <td>31.46</td>\n",
       "      <td>degF</td>\n",
       "      <td>28.76</td>\n",
       "      <td>degF</td>\n",
       "      <td>40.0</td>\n",
       "      <td>in</td>\n",
       "      <td>NRCS</td>\n",
       "    </tr>\n",
       "    <tr>\n",
       "      <th>2024-02-03 08:00:00+00:00</th>\n",
       "      <th>312:ID:SNTL</th>\n",
       "      <td>POINT Z (-115.23447 44.30342 7040.00000)</td>\n",
       "      <td>11.0</td>\n",
       "      <td>in</td>\n",
       "      <td>22.10</td>\n",
       "      <td>degF</td>\n",
       "      <td>30.56</td>\n",
       "      <td>degF</td>\n",
       "      <td>25.70</td>\n",
       "      <td>degF</td>\n",
       "      <td>43.0</td>\n",
       "      <td>in</td>\n",
       "      <td>NRCS</td>\n",
       "    </tr>\n",
       "  </tbody>\n",
       "</table>\n",
       "</div>"
      ],
      "text/plain": [
       "                                                                       geometry  \\\n",
       "datetime                  site                                                    \n",
       "2024-02-01 08:00:00+00:00 312:ID:SNTL  POINT Z (-115.23447 44.30342 7040.00000)   \n",
       "2024-02-02 08:00:00+00:00 312:ID:SNTL  POINT Z (-115.23447 44.30342 7040.00000)   \n",
       "2024-02-03 08:00:00+00:00 312:ID:SNTL  POINT Z (-115.23447 44.30342 7040.00000)   \n",
       "\n",
       "                                        SWE SWE_units  MIN AIR TEMP  \\\n",
       "datetime                  site                                        \n",
       "2024-02-01 08:00:00+00:00 312:ID:SNTL  10.5        in         25.34   \n",
       "2024-02-02 08:00:00+00:00 312:ID:SNTL  10.7        in         25.88   \n",
       "2024-02-03 08:00:00+00:00 312:ID:SNTL  11.0        in         22.10   \n",
       "\n",
       "                                      MIN AIR TEMP_units  MAX AIR TEMP  \\\n",
       "datetime                  site                                           \n",
       "2024-02-01 08:00:00+00:00 312:ID:SNTL               degF         36.86   \n",
       "2024-02-02 08:00:00+00:00 312:ID:SNTL               degF         31.46   \n",
       "2024-02-03 08:00:00+00:00 312:ID:SNTL               degF         30.56   \n",
       "\n",
       "                                      MAX AIR TEMP_units  AVG AIR TEMP  \\\n",
       "datetime                  site                                           \n",
       "2024-02-01 08:00:00+00:00 312:ID:SNTL               degF         31.82   \n",
       "2024-02-02 08:00:00+00:00 312:ID:SNTL               degF         28.76   \n",
       "2024-02-03 08:00:00+00:00 312:ID:SNTL               degF         25.70   \n",
       "\n",
       "                                      AVG AIR TEMP_units  SNOWDEPTH  \\\n",
       "datetime                  site                                        \n",
       "2024-02-01 08:00:00+00:00 312:ID:SNTL               degF       40.0   \n",
       "2024-02-02 08:00:00+00:00 312:ID:SNTL               degF       40.0   \n",
       "2024-02-03 08:00:00+00:00 312:ID:SNTL               degF       43.0   \n",
       "\n",
       "                                      SNOWDEPTH_units datasource  \n",
       "datetime                  site                                    \n",
       "2024-02-01 08:00:00+00:00 312:ID:SNTL              in       NRCS  \n",
       "2024-02-02 08:00:00+00:00 312:ID:SNTL              in       NRCS  \n",
       "2024-02-03 08:00:00+00:00 312:ID:SNTL              in       NRCS  "
      ]
     },
     "execution_count": 3,
     "metadata": {},
     "output_type": "execute_result"
    }
   ],
   "source": [
    "# Let's select banner summit\n",
    "pt = SnotelPointData(\"312:ID:SNTL\", \"Banner Summit\")\n",
    "\n",
    "# start data and end date\n",
    "start_date = datetime.datetime(2024, 2, 1)\n",
    "end_date = datetime.datetime(2024, 2, 29)\n",
    "\n",
    "\n",
    "# Notice this is a list\n",
    "variables = [\n",
    "    pt.ALLOWED_VARIABLES.SWE,\n",
    "    pt.ALLOWED_VARIABLES.TEMPMIN,\n",
    "    pt.ALLOWED_VARIABLES.TEMPMAX,\n",
    "    pt.ALLOWED_VARIABLES.TEMPAVG,\n",
    "    pt.ALLOWED_VARIABLES.SNOWDEPTH,\n",
    "]\n",
    "\n",
    "# request the data\n",
    "df = pt.get_daily_data(start_date, end_date, variables)\n",
    "df.head(3)"
   ]
  },
  {
   "cell_type": "markdown",
   "metadata": {},
   "source": [
    "## Data Cleaning\n",
    "\n",
    "We will do the following:\n",
    "\n",
    "* Variable selection: we will select the variables of interest.\n",
    "* Feature engineering:\n",
    "    - we will convert inches to meters (all methods accepts snow depth and elevation in meters).\n",
    "    - we will convert temperatures to degree Celcius.\n",
    "    - we will get snow class (Sturm and ML models need Snow Depth).\n",
    "\n",
    "Note: if you decide to convert lats and lons to snow class using `ConvertData.get_snow_class`, the code will prompt you to download the snow class raster. You can also pass your own raster."
   ]
  },
  {
   "cell_type": "code",
   "execution_count": 4,
   "metadata": {},
   "outputs": [
    {
     "name": "stdout",
     "output_type": "stream",
     "text": [
      "The Snow Classification raster needs to be downloaded.\n",
      "This file is approximately 1.9 GB in size and will be stored at: /Users/ibrahim/Library/Caches/CroGarsAI/SnowClass_NA_300m_10.0arcsec_2021_v01.0.nc\n"
     ]
    },
    {
     "name": "stderr",
     "output_type": "stream",
     "text": [
      "Downloading...\n",
      "From (original): https://drive.google.com/uc?id=1yhthVbkdBNm_pL5wl5YlwNaKN96iUGa8\n",
      "From (redirected): https://drive.google.com/uc?id=1yhthVbkdBNm_pL5wl5YlwNaKN96iUGa8&confirm=t&uuid=52c46b59-7279-4fef-8373-ed7e9b6a2a9d\n",
      "To: /Users/ibrahim/Library/Caches/CroGarsAI/SnowClass_NA_300m_10.0arcsec_2021_v01.0.nc\n",
      "100%|██████████| 1.98G/1.98G [01:42<00:00, 19.4MB/s]\n"
     ]
    },
    {
     "name": "stdout",
     "output_type": "stream",
     "text": [
      "Download complete.\n"
     ]
    },
    {
     "data": {
      "text/html": [
       "<div>\n",
       "<style scoped>\n",
       "    .dataframe tbody tr th:only-of-type {\n",
       "        vertical-align: middle;\n",
       "    }\n",
       "\n",
       "    .dataframe tbody tr th {\n",
       "        vertical-align: top;\n",
       "    }\n",
       "\n",
       "    .dataframe thead th {\n",
       "        text-align: right;\n",
       "    }\n",
       "</style>\n",
       "<table border=\"1\" class=\"dataframe\">\n",
       "  <thead>\n",
       "    <tr style=\"text-align: right;\">\n",
       "      <th></th>\n",
       "      <th>datetime</th>\n",
       "      <th>SWE</th>\n",
       "      <th>Elevation_m</th>\n",
       "      <th>TAVG_degC</th>\n",
       "      <th>TMIN_degC</th>\n",
       "      <th>TMAX_degC</th>\n",
       "      <th>Month</th>\n",
       "      <th>Snow_Class</th>\n",
       "      <th>Snow_Depth_m</th>\n",
       "      <th>SWE_cm</th>\n",
       "      <th>Snow_Density_gcm</th>\n",
       "    </tr>\n",
       "  </thead>\n",
       "  <tbody>\n",
       "    <tr>\n",
       "      <th>0</th>\n",
       "      <td>2024-02-01 08:00:00+00:00</td>\n",
       "      <td>10.5</td>\n",
       "      <td>178.816</td>\n",
       "      <td>-0.1</td>\n",
       "      <td>-3.7</td>\n",
       "      <td>2.7</td>\n",
       "      <td>2</td>\n",
       "      <td>alpine</td>\n",
       "      <td>1.0160</td>\n",
       "      <td>26.670</td>\n",
       "      <td>0.262500</td>\n",
       "    </tr>\n",
       "    <tr>\n",
       "      <th>1</th>\n",
       "      <td>2024-02-02 08:00:00+00:00</td>\n",
       "      <td>10.7</td>\n",
       "      <td>178.816</td>\n",
       "      <td>-1.8</td>\n",
       "      <td>-3.4</td>\n",
       "      <td>-0.3</td>\n",
       "      <td>2</td>\n",
       "      <td>alpine</td>\n",
       "      <td>1.0160</td>\n",
       "      <td>27.178</td>\n",
       "      <td>0.267500</td>\n",
       "    </tr>\n",
       "    <tr>\n",
       "      <th>2</th>\n",
       "      <td>2024-02-03 08:00:00+00:00</td>\n",
       "      <td>11.0</td>\n",
       "      <td>178.816</td>\n",
       "      <td>-3.5</td>\n",
       "      <td>-5.5</td>\n",
       "      <td>-0.8</td>\n",
       "      <td>2</td>\n",
       "      <td>alpine</td>\n",
       "      <td>1.0922</td>\n",
       "      <td>27.940</td>\n",
       "      <td>0.255814</td>\n",
       "    </tr>\n",
       "  </tbody>\n",
       "</table>\n",
       "</div>"
      ],
      "text/plain": [
       "                   datetime   SWE  Elevation_m  TAVG_degC  TMIN_degC  \\\n",
       "0 2024-02-01 08:00:00+00:00  10.5      178.816       -0.1       -3.7   \n",
       "1 2024-02-02 08:00:00+00:00  10.7      178.816       -1.8       -3.4   \n",
       "2 2024-02-03 08:00:00+00:00  11.0      178.816       -3.5       -5.5   \n",
       "\n",
       "   TMAX_degC  Month Snow_Class  Snow_Depth_m  SWE_cm  Snow_Density_gcm  \n",
       "0        2.7      2     alpine        1.0160  26.670          0.262500  \n",
       "1       -0.3      2     alpine        1.0160  27.178          0.267500  \n",
       "2       -0.8      2     alpine        1.0922  27.940          0.255814  "
      ]
     },
     "execution_count": 4,
     "metadata": {},
     "output_type": "execute_result"
    }
   ],
   "source": [
    "clean_data=(\n",
    "    df\n",
    "    .reset_index()\n",
    "   .filter(items=[\"datetime\", \"geometry\", \"MIN AIR TEMP\", \"MAX AIR TEMP\", \"AVG AIR TEMP\", \"SNOWDEPTH\", \"SWE\"])\n",
    "    .assign(\n",
    "        Elevation_m=lambda x: ConvertData.inches_to_metric(x.geometry.map(lambda x: x.coords[0][2]), unit=\"meters\"),\n",
    "        Latitude=lambda x: x.geometry.map(lambda x: x.coords[0][1]),\n",
    "        Longitude=lambda x: x.geometry.map(lambda x: x.coords[0][0]),\n",
    "        TAVG_degC=lambda x: ConvertData.fah_to_cel(x[\"AVG AIR TEMP\"]),\n",
    "        TMIN_degC=lambda x: ConvertData.fah_to_cel(x[\"MIN AIR TEMP\"]),\n",
    "        TMAX_degC=lambda x: ConvertData.fah_to_cel(x[\"MAX AIR TEMP\"]),\n",
    "        Month=lambda x: x.datetime.dt.month,\n",
    "        Snow_Depth_cm=lambda x: ConvertData.inches_to_metric(x[\"SNOWDEPTH\"], unit=\"cm\"),\n",
    "        Snow_Class=lambda x: ConvertData.get_snow_class(lons=x.Longitude, lats=x.Latitude, raster=None),\n",
    "        Snow_Depth_m=lambda x: ConvertData.inches_to_metric(x[\"SNOWDEPTH\"], unit=\"meters\"),\n",
    "        SWE_cm=lambda x: ConvertData.inches_to_metric(x[\"SWE\"], unit=\"cm\"),\n",
    "        Snow_Density_gcm=lambda x: x.SWE_cm / x.Snow_Depth_cm\n",
    "\n",
    "    )\n",
    "    .drop(columns=[\n",
    "        \"geometry\", \"AVG AIR TEMP\", \n",
    "        \"MIN AIR TEMP\", \"MAX AIR TEMP\", \n",
    "        \"SNOWDEPTH\", \"Snow_Depth_cm\",\n",
    "        \"Latitude\", \"Longitude\"\n",
    "    ])\n",
    ")\n",
    "\n",
    "clean_data.head(3)"
   ]
  },
  {
   "cell_type": "code",
   "execution_count": 5,
   "metadata": {},
   "outputs": [
    {
     "name": "stdout",
     "output_type": "stream",
     "text": [
      "<class 'pandas.core.frame.DataFrame'>\n",
      "RangeIndex: 29 entries, 0 to 28\n",
      "Data columns (total 11 columns):\n",
      " #   Column            Non-Null Count  Dtype              \n",
      "---  ------            --------------  -----              \n",
      " 0   datetime          29 non-null     datetime64[ns, UTC]\n",
      " 1   SWE               29 non-null     float64            \n",
      " 2   Elevation_m       29 non-null     float64            \n",
      " 3   TAVG_degC         29 non-null     float64            \n",
      " 4   TMIN_degC         29 non-null     float64            \n",
      " 5   TMAX_degC         29 non-null     float64            \n",
      " 6   Month             29 non-null     int32              \n",
      " 7   Snow_Class        29 non-null     object             \n",
      " 8   Snow_Depth_m      29 non-null     float64            \n",
      " 9   SWE_cm            29 non-null     float64            \n",
      " 10  Snow_Density_gcm  29 non-null     float64            \n",
      "dtypes: datetime64[ns, UTC](1), float64(8), int32(1), object(1)\n",
      "memory usage: 2.5+ KB\n"
     ]
    }
   ],
   "source": [
    "clean_data.info()"
   ]
  },
  {
   "cell_type": "markdown",
   "metadata": {},
   "source": [
    "## Predict Snow Density\n",
    "\n",
    "Note that all models return snow density in $gcm^{-3}$."
   ]
  },
  {
   "cell_type": "code",
   "execution_count": 6,
   "metadata": {},
   "outputs": [
    {
     "name": "stdout",
     "output_type": "stream",
     "text": [
      "The Machine Learning Wegiths needs to be downloaded.\n",
      "This file is approximately 180 MB in size and will be stored at: /Users/ibrahim/Library/Caches/CroGarsAI/density_model.ubj\n"
     ]
    },
    {
     "name": "stderr",
     "output_type": "stream",
     "text": [
      "Downloading...\n",
      "From (original): https://drive.google.com/uc?id=1tLHRR7wuI33FfrjBTBK_-KyXHnT2jfat\n",
      "From (redirected): https://drive.google.com/uc?id=1tLHRR7wuI33FfrjBTBK_-KyXHnT2jfat&confirm=t&uuid=dc3addb6-4284-416d-b5a4-6e9c830344bb\n",
      "To: /Users/ibrahim/Library/Caches/CroGarsAI/density_model.ubj\n",
      "100%|██████████| 185M/185M [00:09<00:00, 19.4MB/s] \n"
     ]
    },
    {
     "name": "stdout",
     "output_type": "stream",
     "text": [
      "Download complete.\n"
     ]
    },
    {
     "data": {
      "text/html": [
       "<div>\n",
       "<style scoped>\n",
       "    .dataframe tbody tr th:only-of-type {\n",
       "        vertical-align: middle;\n",
       "    }\n",
       "\n",
       "    .dataframe tbody tr th {\n",
       "        vertical-align: top;\n",
       "    }\n",
       "\n",
       "    .dataframe thead th {\n",
       "        text-align: right;\n",
       "    }\n",
       "</style>\n",
       "<table border=\"1\" class=\"dataframe\">\n",
       "  <thead>\n",
       "    <tr style=\"text-align: right;\">\n",
       "      <th></th>\n",
       "      <th>datetime</th>\n",
       "      <th>Snow_Depth_m</th>\n",
       "      <th>SWE_cm</th>\n",
       "      <th>Snow_Density_gcm</th>\n",
       "      <th>Jonas_Density</th>\n",
       "      <th>Pistochi_Density</th>\n",
       "      <th>Sturm_Density</th>\n",
       "      <th>ML_Density</th>\n",
       "    </tr>\n",
       "  </thead>\n",
       "  <tbody>\n",
       "    <tr>\n",
       "      <th>0</th>\n",
       "      <td>2024-02-01 08:00:00+00:00</td>\n",
       "      <td>1.0160</td>\n",
       "      <td>26.670</td>\n",
       "      <td>0.262500</td>\n",
       "      <td>0.288144</td>\n",
       "      <td>0.354</td>\n",
       "      <td>0.304492</td>\n",
       "      <td>0.246541</td>\n",
       "    </tr>\n",
       "    <tr>\n",
       "      <th>1</th>\n",
       "      <td>2024-02-02 08:00:00+00:00</td>\n",
       "      <td>1.0160</td>\n",
       "      <td>27.178</td>\n",
       "      <td>0.267500</td>\n",
       "      <td>0.288144</td>\n",
       "      <td>0.355</td>\n",
       "      <td>0.305603</td>\n",
       "      <td>0.245297</td>\n",
       "    </tr>\n",
       "    <tr>\n",
       "      <th>2</th>\n",
       "      <td>2024-02-03 08:00:00+00:00</td>\n",
       "      <td>1.0922</td>\n",
       "      <td>27.940</td>\n",
       "      <td>0.255814</td>\n",
       "      <td>0.288830</td>\n",
       "      <td>0.356</td>\n",
       "      <td>0.309357</td>\n",
       "      <td>0.237329</td>\n",
       "    </tr>\n",
       "  </tbody>\n",
       "</table>\n",
       "</div>"
      ],
      "text/plain": [
       "                   datetime  Snow_Depth_m  SWE_cm  Snow_Density_gcm  \\\n",
       "0 2024-02-01 08:00:00+00:00        1.0160  26.670          0.262500   \n",
       "1 2024-02-02 08:00:00+00:00        1.0160  27.178          0.267500   \n",
       "2 2024-02-03 08:00:00+00:00        1.0922  27.940          0.255814   \n",
       "\n",
       "   Jonas_Density  Pistochi_Density  Sturm_Density  ML_Density  \n",
       "0       0.288144             0.354       0.304492    0.246541  \n",
       "1       0.288144             0.355       0.305603    0.245297  \n",
       "2       0.288830             0.356       0.309357    0.237329  "
      ]
     },
     "execution_count": 6,
     "metadata": {},
     "output_type": "execute_result"
    }
   ],
   "source": [
    "preds=(\n",
    "    clean_data\n",
    "    .assign(\n",
    "        Jonas_Density=lambda x: JonasDensity().predict(data=x, snow_depth='Snow_Depth_m', month='Month', elevation='Elevation_m'),\n",
    "        Pistochi_Density=lambda x: PistochiDensity().predict(data=x, DOY='datetime'),\n",
    "        Sturm_Density=lambda x: SturmDensity().predict(data=x, snow_depth='Snow_Depth_m', DOY='datetime', snow_class='Snow_Class'),\n",
    "        ML_Density=lambda x: MachineLearningDensity().predict(data=x, snow_depth='Snow_Depth_m', DOY='datetime', snow_class='Snow_Class', elevation='Elevation_m', tavg='TAVG_degC', tmin='TMIN_degC', tmax='TMAX_degC')\n",
    "    )\n",
    "    .drop(columns=[\n",
    "        \"SWE\",\n",
    "        \"Elevation_m\", \n",
    "        \"TAVG_degC\",\n",
    "        \"TMIN_degC\", \n",
    "        \"TMAX_degC\", \n",
    "        \"Month\", \n",
    "        \"Snow_Class\"\n",
    "    ])\n",
    " )\n",
    "\n",
    "preds.head(3)"
   ]
  },
  {
   "cell_type": "markdown",
   "metadata": {},
   "source": [
    "## Model Evaluation"
   ]
  },
  {
   "cell_type": "code",
   "execution_count": 7,
   "metadata": {},
   "outputs": [
    {
     "name": "stdout",
     "output_type": "stream",
     "text": [
      "Jonas RMSE: 0.0489\n",
      "Pistochi RMSE: 0.125\n",
      "Sturm RMSE: 0.0881\n",
      "ML RMSE: 0.0133\n"
     ]
    }
   ],
   "source": [
    "print(f\"Jonas RMSE: {root_mean_squared_error(preds.Snow_Density_gcm, preds.Jonas_Density):.3}\")\n",
    "print(f\"Pistochi RMSE: {root_mean_squared_error(preds.Snow_Density_gcm, preds.Pistochi_Density):.3}\")\n",
    "print(f\"Sturm RMSE: {root_mean_squared_error(preds.Snow_Density_gcm, preds.Sturm_Density):.3}\")\n",
    "print(f\"ML RMSE: {root_mean_squared_error(preds.Snow_Density_gcm, preds.ML_Density):.3}\")"
   ]
  },
  {
   "cell_type": "markdown",
   "metadata": {},
   "source": [
    "## Some Plots"
   ]
  },
  {
   "cell_type": "code",
   "execution_count": 8,
   "metadata": {},
   "outputs": [],
   "source": [
    "try:\n",
    "    import matplotlib.pyplot as plt\n",
    "except ImportError:\n",
    "    !pip install matplotlib"
   ]
  },
  {
   "cell_type": "code",
   "execution_count": 11,
   "metadata": {},
   "outputs": [
    {
     "data": {
      "image/png": "[encoded data removed]",
      "text/plain": [
       "<Figure size 640x480 with 1 Axes>"
      ]
     },
     "metadata": {},
     "output_type": "display_data"
    }
   ],
   "source": [
    "(\n",
    "    preds\n",
    "    .set_index(\"datetime\")\n",
    "    .plot(\n",
    "        y=[\"Snow_Density_gcm\", \"Jonas_Density\", \"Pistochi_Density\", \"Sturm_Density\", \"ML_Density\"],\n",
    "        title=\"Density Predictions\",\n",
    "        ylabel=\"Density (g/cm^3)\",\n",
    "    )\n",
    ")\n",
    "\n",
    "plt.legend([\"Observed\", \"Jonas\", \"Pistochi\", \"Sturm\", \"ML\"],  bbox_to_anchor=(1, 0.7))\n",
    "plt.xticks(rotation=90)\n",
    "plt.show()"
   ]
  },
  {
   "cell_type": "markdown",
   "metadata": {},
   "source": [
    "* The ML model outperforms the statistical models here. We can also fine tune the ML model on this new data and we might get a better result. This functionality will be added in the future."
   ]
  },
  {
   "cell_type": "markdown",
   "metadata": {},
   "source": [
    "## Optionally Delete Downloaded Models"
   ]
  },
  {
   "cell_type": "code",
   "execution_count": 12,
   "metadata": {},
   "outputs": [
    {
     "name": "stdout",
     "output_type": "stream",
     "text": [
      "Cleared cached file at /Users/ibrahim/Library/Caches/CroGarsAI/SnowClass_NA_300m_10.0arcsec_2021_v01.0.nc\n",
      "Cleared cached file at /Users/ibrahim/Library/Caches/CroGarsAI/density_model.ubj\n"
     ]
    }
   ],
   "source": [
    "clean_cache(filename='snow_class')\n",
    "clean_cache(filename='density')"
   ]
  }
 ],
 "metadata": {
  "kernelspec": {
   "display_name": ".venv",
   "language": "python",
   "name": "python3"
  },
  "language_info": {
   "codemirror_mode": {
    "name": "ipython",
    "version": 3
   },
   "file_extension": ".py",
   "mimetype": "text/x-python",
   "name": "python",
   "nbconvert_exporter": "python",
   "pygments_lexer": "ipython3",
   "version": "3.11.5"
  }
 },
 "nbformat": 4,
 "nbformat_minor": 2
}
