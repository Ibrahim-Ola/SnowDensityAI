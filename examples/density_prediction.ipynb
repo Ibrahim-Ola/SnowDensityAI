{
 "cells": [
  {
   "cell_type": "markdown",
   "metadata": {},
   "source": [
    "## Setup\n",
    "\n",
    "Load libraries"
   ]
  },
  {
   "cell_type": "code",
   "execution_count": 1,
   "metadata": {},
   "outputs": [],
   "source": [
    "import pandas as pd\n",
    "from snowai.density import (\n",
    "    JonasDensity, \n",
    "    PistochiDensity, \n",
    "    SturmDensity,\n",
    "    MachineLearningDensity\n",
    ")\n"
   ]
  },
  {
   "cell_type": "markdown",
   "metadata": {},
   "source": [
    "## Let's create sample data"
   ]
  },
  {
   "cell_type": "code",
   "execution_count": 3,
   "metadata": {},
   "outputs": [
    {
     "data": {
      "text/html": [
       "<div>\n",
       "<style scoped>\n",
       "    .dataframe tbody tr th:only-of-type {\n",
       "        vertical-align: middle;\n",
       "    }\n",
       "\n",
       "    .dataframe tbody tr th {\n",
       "        vertical-align: top;\n",
       "    }\n",
       "\n",
       "    .dataframe thead th {\n",
       "        text-align: right;\n",
       "    }\n",
       "</style>\n",
       "<table border=\"1\" class=\"dataframe\">\n",
       "  <thead>\n",
       "    <tr style=\"text-align: right;\">\n",
       "      <th></th>\n",
       "      <th>date</th>\n",
       "      <th>depth_cm</th>\n",
       "      <th>elevation_m</th>\n",
       "      <th>snow_class</th>\n",
       "      <th>depth_m</th>\n",
       "    </tr>\n",
       "  </thead>\n",
       "  <tbody>\n",
       "    <tr>\n",
       "      <th>0</th>\n",
       "      <td>2012-02-06</td>\n",
       "      <td>30.48</td>\n",
       "      <td>652.272</td>\n",
       "      <td>Ephemeral</td>\n",
       "      <td>0.3048</td>\n",
       "    </tr>\n",
       "    <tr>\n",
       "      <th>1</th>\n",
       "      <td>2017-04-27</td>\n",
       "      <td>134.62</td>\n",
       "      <td>2855.976</td>\n",
       "      <td>Taiga</td>\n",
       "      <td>1.3462</td>\n",
       "    </tr>\n",
       "    <tr>\n",
       "      <th>2</th>\n",
       "      <td>2007-12-27</td>\n",
       "      <td>149.86</td>\n",
       "      <td>2743.200</td>\n",
       "      <td>Taiga</td>\n",
       "      <td>1.4986</td>\n",
       "    </tr>\n",
       "  </tbody>\n",
       "</table>\n",
       "</div>"
      ],
      "text/plain": [
       "         date  depth_cm  elevation_m snow_class  depth_m\n",
       "0  2012-02-06     30.48      652.272  Ephemeral   0.3048\n",
       "1  2017-04-27    134.62     2855.976      Taiga   1.3462\n",
       "2  2007-12-27    149.86     2743.200      Taiga   1.4986"
      ]
     },
     "execution_count": 3,
     "metadata": {},
     "output_type": "execute_result"
    }
   ],
   "source": [
    "date=[\"2012-02-06\", \"2017-04-27\", \"2007-12-27\"]\n",
    "depth_cm=[30.48, 134.62, 149.86]\n",
    "elevation_m=[652.272, 2855.976, 2743.200]\n",
    "snow_class=['Ephemeral', 'Taiga', 'Taiga']\n",
    "\n",
    "\n",
    "df_ = pd.DataFrame({\n",
    "    'date': date,\n",
    "    'depth_cm': depth_cm,\n",
    "    'elevation_m': elevation_m,\n",
    "    'snow_class': snow_class\n",
    "})\n",
    "\n",
    "df=df_.assign(depth_m = df_['depth_cm'] / 100)\n",
    "\n",
    "df"
   ]
  }
 ],
 "metadata": {
  "kernelspec": {
   "display_name": ".venv",
   "language": "python",
   "name": "python3"
  },
  "language_info": {
   "codemirror_mode": {
    "name": "ipython",
    "version": 3
   },
   "file_extension": ".py",
   "mimetype": "text/x-python",
   "name": "python",
   "nbconvert_exporter": "python",
   "pygments_lexer": "ipython3",
   "version": "3.11.5"
  }
 },
 "nbformat": 4,
 "nbformat_minor": 2
}
